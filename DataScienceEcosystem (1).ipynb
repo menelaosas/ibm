{
 "cells": [
  {
   "cell_type": "markdown",
   "id": "b34277f2-0387-452d-a500-3676b65de8cb",
   "metadata": {},
   "source": [
    "# Data Science Tools and Ecosystem"
   ]
  },
  {
   "cell_type": "markdown",
   "id": "2dbc6e51-9ca2-404a-9b84-6b9370618879",
   "metadata": {},
   "source": [
    "In this notebook, Data Science Tools and Ecosystem are summarized."
   ]
  },
  {
   "cell_type": "markdown",
   "id": "7bb8e223-42b3-421a-bf8a-f8dc4a9f6b02",
   "metadata": {},
   "source": [
    "**Objectives:**\n",
    "- Python\n",
    "- C\n",
    "- R\n",
    "- C++"
   ]
  },
  {
   "cell_type": "markdown",
   "id": "a5afa71c-99e3-49c5-9eb3-0f5744545617",
   "metadata": {},
   "source": [
    "Some of the popular languages that Data Scientists use are:\n",
    "1. Python\n",
    "2. C ++\n",
    "3. C\n",
    "4. R"
   ]
  },
  {
   "cell_type": "markdown",
   "id": "cfb49ce5-7603-4a4c-a23b-f453068adda4",
   "metadata": {},
   "source": [
    "Some of the commonly used libraries used by Data Scientists include:\n",
    "1. Panda\n",
    "2. Scikit\n",
    "3. seaborn"
   ]
  },
  {
   "cell_type": "markdown",
   "id": "0c28d1e3-330c-4458-80ac-3aa205d8394f",
   "metadata": {},
   "source": [
    "| Data Science Tools |\n",
    "|---------|\n",
    "| Jupyter |\n",
    "| zeppelin|\n",
    "| watchon studio|"
   ]
  },
  {
   "cell_type": "markdown",
   "id": "bfe79e32-e93c-48b6-83ee-9d5131842d11",
   "metadata": {},
   "source": [
    "### Below are a few examples of evaluating arithmetic expressions in Python"
   ]
  },
  {
   "cell_type": "code",
   "execution_count": 2,
   "id": "5f112285-f0db-47ad-9098-2d341045f34f",
   "metadata": {},
   "outputs": [
    {
     "data": {
      "text/plain": [
       "17"
      ]
     },
     "execution_count": 2,
     "metadata": {},
     "output_type": "execute_result"
    }
   ],
   "source": [
    "# This a simple arithmetic expression to mutiply then add integers\n",
    "(3*4)+5"
   ]
  },
  {
   "cell_type": "code",
   "execution_count": 3,
   "id": "6f4cc451-f69c-4d5e-9889-90e62ae99443",
   "metadata": {},
   "outputs": [
    {
     "data": {
      "text/plain": [
       "3.3333333333333335"
      ]
     },
     "execution_count": 3,
     "metadata": {},
     "output_type": "execute_result"
    }
   ],
   "source": [
    "#  This will convert 200 minutes to hours by diving by 60\n",
    "200/60"
   ]
  },
  {
   "cell_type": "markdown",
   "id": "cd67ffbe-eca1-4c54-94bf-dbb955820f11",
   "metadata": {},
   "source": [
    "## Author\n",
    "Asimoglou Menelaos"
   ]
  },
  {
   "cell_type": "code",
   "execution_count": null,
   "id": "62998f02-870b-41f7-8b4b-ac1047f7fd5b",
   "metadata": {},
   "outputs": [],
   "source": []
  }
 ],
 "metadata": {
  "kernelspec": {
   "display_name": "Python 3 (ipykernel)",
   "language": "python",
   "name": "python3"
  },
  "language_info": {
   "codemirror_mode": {
    "name": "ipython",
    "version": 3
   },
   "file_extension": ".py",
   "mimetype": "text/x-python",
   "name": "python",
   "nbconvert_exporter": "python",
   "pygments_lexer": "ipython3",
   "version": "3.11.9"
  }
 },
 "nbformat": 4,
 "nbformat_minor": 5
}
